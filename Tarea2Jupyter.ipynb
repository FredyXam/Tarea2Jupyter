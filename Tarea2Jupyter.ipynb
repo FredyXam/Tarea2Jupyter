{
 "cells": [
  {
   "cell_type": "markdown",
   "metadata": {},
   "source": [
    "#### *Ciencia de Datos en Python*  \n",
    "#### *Marto Fredy Xam Chivalán 20 000 144*\n",
    "#### *Febrero 2021*"
   ]
  },
  {
   "cell_type": "markdown",
   "metadata": {},
   "source": [
    "******"
   ]
  },
  {
   "cell_type": "markdown",
   "metadata": {},
   "source": [
    "\n",
    "# **Laboratorio # 2 Jupyter Notebooks, Markdown y Git**\n"
   ]
  },
  {
   "cell_type": "markdown",
   "metadata": {},
   "source": [
    "Es útil para conocer versiones anteriores de los códigos realizados, ya sea por una persona o un equipo de trabajo, regularmente los diferentes procesos por lo que va pasando un código tiene cosas funcionales y cosas que no, pero cuando en algún momento se trata de rescatar una función que se desechó y podría ser útil en un proceso actual es muy difícil identificarla, si es que aún se tiene la probabilidad de recuperarla. Git permite utilizar un código en su versión anterior, aún cuando ésta ya esté en funcionamiento."
   ]
  },
  {
   "cell_type": "markdown",
   "metadata": {},
   "source": [
    "> Todo código se encuentre habitualmente guardado en una carpeta que tiene cierta dirección de acuerdo al equipo en el que se esté trabajando, sin embargo, el equipo de una persona no tendrá la misma dirección de trabajo que otra, al mismo tiempo no tiene los mismos archCiudadvos, y a esto lo conocemos como un árbol de archivos. Su objetivo es buscar los archivos y utilizar las funciones para identificarlos de manera eficiente y exacta, al momento de cambiar de equipo un código, y esto se logra con la función hash, lo cual redirecciona los archivos."
   ]
  },
  {
   "cell_type": "markdown",
   "metadata": {},
   "source": [
    "La forma en la que identifica las versiones es por medio de un ID, que es generado con cada forma que haya tenido el código durante el desarrollo del código final, también se considera la referencia del archivo, es decir su ubicación en el a que se encuentra guardada en un equipo, lo cual permite gestionar fácilmente los archivos y referencias."
   ]
  },
  {
   "cell_type": "markdown",
   "metadata": {},
   "source": [
    "### **Permiten tener un control sobre los cambios como:**\n",
    "1.\tQuien realizó las modificaciones\n",
    "2.\tCuando se realizaron los cambios\n",
    "3.\tQué versiones se tienen\n"
   ]
  },
  {
   "cell_type": "markdown",
   "metadata": {},
   "source": [
    "### **Las características principales de Git son:**\n",
    "1.\tControl de versiones\n",

    "2.\tMantener un histórico\n",
    "3.\tPermitir ramas\n",
    "4.\tPermitir la colaboración\n"
   ]
  },
  {
   "cell_type": "markdown",
   "metadata": {},
   "source": [
       
    "### **Los tipos de archivo que son utilizados en Git son:**\n",
    "\n",
    "* Un archivo = “blob”\n",
    "* Referencia = “árbol”\n"
   ]
  },
  {
   "cell_type": "markdown",
   "metadata": {},
   "source": [
    "### Conclusión\n",
    "> Git es un gran aliado como herramienta en el control de versiones, ya sea para un uso personal o bien para el desarrollo de proyectos en grandes compañías, ya que permite tener el control sobre las versiones, identificar facilmente los cambios, verificar quienes hicieron los cambios y reutilizar los codigos que en su momento no eran de suma importancia pero que a lo largo del proceso puedan ser útiles para complementar alguna idea o resolver un problema futuro."
   ]
  },
  {
   "cell_type": "markdown",
   "metadata": {},
   "source": [
    "Los tados obtentidos del presente trabajo los puede encontrar en:\n",
    "https://missing.csail.mit.edu/2020/version-control/"
   ]
  }
 ],
 "metadata": {
  "kernelspec": {
   "display_name": "Python 3",
   "language": "python",
   "name": "python3"
  },
  "language_info": {
   "codemirror_mode": {
    "name": "ipython",
    "version": 3
   },
   "file_extension": ".py",
   "mimetype": "text/x-python",
   "name": "python",
   "nbconvert_exporter": "python",
   "pygments_lexer": "ipython3",
   "version": "3.8.5"
  }
 },
 "nbformat": 4,
 "nbformat_minor": 4
}
